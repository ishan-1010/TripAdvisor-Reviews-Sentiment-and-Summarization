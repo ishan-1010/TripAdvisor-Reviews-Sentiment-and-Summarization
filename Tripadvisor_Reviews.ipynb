{
 "cells": [
  {
   "cell_type": "code",
   "execution_count": 2,
   "id": "230aad07-c68b-419d-9b60-7bbde549fb14",
   "metadata": {},
   "outputs": [],
   "source": [
    "import random\n",
    "import requests\n",
    "from bs4 import BeautifulSoup\n",
    "import math\n",
    "import re\n",
    "import time\n",
    "import pandas as pd\n",
    "import matplotlib.pyplot as plt\n",
    "from collections import Counter"
   ]
  },
  {
   "cell_type": "code",
   "execution_count": 3,
   "id": "9c91e766-36db-444f-b214-193ccfd579aa",
   "metadata": {},
   "outputs": [],
   "source": [
    "with open(r\"C:\\Users\\Ishan\\Downloads\\user_agents.txt\", \"r\") as f:\n",
    "    user_agents = [line.strip() for line in f.readlines()]"
   ]
  },
  {
   "cell_type": "code",
   "execution_count": 4,
   "id": "11377409-1c51-4e4e-ba14-b193b27836d3",
   "metadata": {},
   "outputs": [],
   "source": [
    "custom_headers = {\n",
    "    'User-Agent': random.choice(user_agents),\n",
    "    'Accept-Language': 'da, en-gb, en',\n",
    "    'Referer': 'https://www.google.com/'\n",
    "}"
   ]
  },
  {
   "cell_type": "code",
   "execution_count": 5,
   "id": "d5e45f53-7e47-4ede-84ba-84e36e8e3c65",
   "metadata": {},
   "outputs": [],
   "source": [
    "def is_valid_tripadvisor_url(base_url):\n",
    "  pattern = re.compile(r\"https://www\\.tripadvisor\\.com/(Hotel_Review|Restaurant_Review)-g\\d+-d\\d+-Reviews-.*\\.html\")\n",
    "  return bool(pattern.match(base_url))"
   ]
  },
  {
   "cell_type": "code",
   "execution_count": 6,
   "id": "08a4c901-7cc9-4653-abc6-a26563352b50",
   "metadata": {},
   "outputs": [],
   "source": [
    "def generate_pageurl_hotel(base_url, page_number):\n",
    "    if page_number == 0:\n",
    "        return base_url\n",
    "    offset = page_number * 10\n",
    "    return base_url.replace(\"Reviews-\", f\"Reviews-or{offset}-\")"
   ]
  },
  {
   "cell_type": "code",
   "execution_count": 7,
   "id": "a608b6ae-9ad8-466c-93b8-d6c21ef82867",
   "metadata": {},
   "outputs": [],
   "source": [
    "def generate_pageurl_resta(base_url, page_number):\n",
    "    if page_number == 0:\n",
    "        return base_url\n",
    "    offset = page_number * 15\n",
    "    return base_url.replace(\"Reviews-\", f\"Reviews-or{offset}-\")"
   ]
  },
  {
   "cell_type": "code",
   "execution_count": 8,
   "id": "0cbb3cfb-7920-40ca-aa40-38e1bc8ec56d",
   "metadata": {},
   "outputs": [],
   "source": [
    "result = []\n",
    "df = None"
   ]
  },
  {
   "cell_type": "code",
   "execution_count": 9,
   "id": "85647df2-a2eb-4043-828f-f65067c51e3f",
   "metadata": {},
   "outputs": [],
   "source": [
    "def scrape_reviews_hotel(page_url):\n",
    "\n",
    "  response = requests.get(page_url,headers = custom_headers)\n",
    "  if response.status_code == 404:\n",
    "      print(f\"Page not found: {page_url}\")\n",
    "      return   # Indicate that the page was not found\n",
    "  response.raise_for_status()  # Raise an error for other bad responses\n",
    "  soup = BeautifulSoup(response.text, 'html.parser')\n",
    "\n",
    "  reviews = soup.find_all('div', {'class': 'fIrGe _T'})\n",
    "\n",
    "  if not reviews:\n",
    "    print(f\"No reviews found on page: {page_url}\")\n",
    "    return False   # Indicate that there are no more reviews\n",
    "\n",
    "  for review in reviews:\n",
    "      review_text_span = review.find(\"span\", {\"class\": 'orRIx Ci _a C'})\n",
    "      if review_text_span:\n",
    "          review_text = review_text_span.text.strip()\n",
    "          print(f\"Review: {review_text}\\n\")\n",
    "          result.append(review_text)\n",
    "      else:\n",
    "          continue\n",
    "  return True"
   ]
  },
  {
   "cell_type": "code",
   "execution_count": 10,
   "id": "0f34ffc3-96cb-44c8-8338-2da74071ad89",
   "metadata": {},
   "outputs": [],
   "source": [
    "def scrape_reviews_resta(page_url):\n",
    "\n",
    "  response = requests.get(page_url,headers = custom_headers)\n",
    "  if response.status_code == 404:\n",
    "      print(f\"Page not found: {page_url}\")\n",
    "      return   # Indicate that the page was not found\n",
    "  response.raise_for_status()  # Raise an error for other bad responses\n",
    "  soup = BeautifulSoup(response.text, 'html.parser')\n",
    "\n",
    "  reviews = soup.find_all('div', {'class': 'biGQs _P pZUbB KxBGd'})\n",
    "\n",
    "  if not reviews:\n",
    "    print(f\"No reviews found on page: {page_url}\")\n",
    "    return False   # Indicate that there are no more reviews\n",
    "\n",
    "  for review in reviews:\n",
    "      review_text_span = review.find(\"span\", {\"class\": 'JguWG'})\n",
    "      if review_text_span:\n",
    "          review_text = review_text_span.text.strip()\n",
    "          print(f\"Review: {review_text}\\n\")\n",
    "          result.append(review_text)\n",
    "      else:\n",
    "          continue\n",
    "  return True"
   ]
  },
  {
   "cell_type": "code",
   "execution_count": 11,
   "id": "93152612-e526-4347-a004-bbaa6e73d233",
   "metadata": {},
   "outputs": [
    {
     "name": "stdout",
     "output_type": "stream",
     "text": [
      "Enter a valid URL\n"
     ]
    }
   ],
   "source": [
    "def main():\n",
    "  base_url = input(\"Enter Tripadvisor Hotel or Restaurant URL: \")\n",
    "  if not is_valid_tripadvisor_url(base_url):\n",
    "    print(\"Enter a valid URL\")\n",
    "    return\n",
    "\n",
    "  if \"Restaurant_Review\" in base_url:\n",
    "    for page in range(3):\n",
    "      page_url = generate_pageurl_resta(base_url, page)\n",
    "      print(f\"Scraping Page {page + 1} URL: {page_url}\")\n",
    "      fetched = scrape_reviews_resta(page_url)\n",
    "      if not fetched:\n",
    "        print(\"Scraping Stopped\")\n",
    "        break    # If there are no further pages with reviews then stop scraping\n",
    "      time.sleep(8)\n",
    "\n",
    "\n",
    "  if \"Hotel_Review\" in base_url:\n",
    "    for page in range(3):\n",
    "      page_url = generate_pageurl_hotel(base_url, page)\n",
    "      print(f\"Scraping Page {page + 1} URL: {page_url}\")\n",
    "      fetched = scrape_reviews_hotel(page_url)\n",
    "      if not fetched:\n",
    "        print(\"Scraping Stopped\")\n",
    "        break    # If there are no further pages with reviews then stop scraping\n",
    "      time.sleep(8)\n",
    "\n",
    "\n",
    "\n",
    "\n",
    "if __name__ == \"__main__\":\n",
    "    main()\n",
    "\n",
    "    "
   ]
  },
  {
   "cell_type": "code",
   "execution_count": 11,
   "id": "3cecd301-464e-4509-a6fc-e961b64e1afe",
   "metadata": {},
   "outputs": [],
   "source": [
    "if result:\n",
    "      df = pd.DataFrame(result, columns=['Review'])\n",
    "\n",
    "      df.to_csv(\"scraped_reviews.csv\", index=False)\n",
    "      print(\"Reviews saved to scraped_reviews.csv\")"
   ]
  },
  {
   "cell_type": "code",
   "execution_count": 12,
   "id": "0d7c4595",
   "metadata": {},
   "outputs": [],
   "source": [
    "df = pd.read_csv(r\"C:\\Users\\Ishan\\Downloads\\scraped_reviews (1).csv\")"
   ]
  },
  {
   "cell_type": "code",
   "execution_count": 13,
   "id": "89333698-1f95-4f7c-a783-4081cefae67e",
   "metadata": {},
   "outputs": [
    {
     "data": {
      "text/html": [
       "<div>\n",
       "<style scoped>\n",
       "    .dataframe tbody tr th:only-of-type {\n",
       "        vertical-align: middle;\n",
       "    }\n",
       "\n",
       "    .dataframe tbody tr th {\n",
       "        vertical-align: top;\n",
       "    }\n",
       "\n",
       "    .dataframe thead th {\n",
       "        text-align: right;\n",
       "    }\n",
       "</style>\n",
       "<table border=\"1\" class=\"dataframe\">\n",
       "  <thead>\n",
       "    <tr style=\"text-align: right;\">\n",
       "      <th></th>\n",
       "      <th>Review</th>\n",
       "    </tr>\n",
       "  </thead>\n",
       "  <tbody>\n",
       "    <tr>\n",
       "      <th>0</th>\n",
       "      <td>Conveniently located in the middle of the mall...</td>\n",
       "    </tr>\n",
       "    <tr>\n",
       "      <th>1</th>\n",
       "      <td>Its difficult to find good restaurants in hill...</td>\n",
       "    </tr>\n",
       "    <tr>\n",
       "      <th>2</th>\n",
       "      <td>We went there in The month of February . Yet i...</td>\n",
       "    </tr>\n",
       "    <tr>\n",
       "      <th>3</th>\n",
       "      <td>I was there with my kids to enjoy dinner but w...</td>\n",
       "    </tr>\n",
       "    <tr>\n",
       "      <th>4</th>\n",
       "      <td>A very good place to get authentic Tibetan foo...</td>\n",
       "    </tr>\n",
       "  </tbody>\n",
       "</table>\n",
       "</div>"
      ],
      "text/plain": [
       "                                              Review\n",
       "0  Conveniently located in the middle of the mall...\n",
       "1  Its difficult to find good restaurants in hill...\n",
       "2  We went there in The month of February . Yet i...\n",
       "3  I was there with my kids to enjoy dinner but w...\n",
       "4  A very good place to get authentic Tibetan foo..."
      ]
     },
     "execution_count": 13,
     "metadata": {},
     "output_type": "execute_result"
    }
   ],
   "source": [
    "df.head()"
   ]
  },
  {
   "cell_type": "code",
   "execution_count": 22,
   "id": "800f90a4-02eb-4d59-b672-258f3582f71c",
   "metadata": {},
   "outputs": [
    {
     "name": "stdout",
     "output_type": "stream",
     "text": [
      "Collecting transformers"
     ]
    },
    {
     "name": "stderr",
     "output_type": "stream",
     "text": [
      "\n",
      "[notice] A new release of pip is available: 23.1.2 -> 24.2\n",
      "[notice] To update, run: python.exe -m pip install --upgrade pip\n"
     ]
    },
    {
     "name": "stdout",
     "output_type": "stream",
     "text": [
      "\n",
      "  Downloading transformers-4.43.4-py3-none-any.whl (9.4 MB)\n",
      "     ---------------------------------------- 9.4/9.4 MB 5.3 MB/s eta 0:00:00\n",
      "Requirement already satisfied: filelock in c:\\users\\ishan\\appdata\\local\\programs\\python\\python310\\lib\\site-packages (from transformers) (3.15.4)\n",
      "Collecting huggingface-hub<1.0,>=0.23.2 (from transformers)\n",
      "  Using cached huggingface_hub-0.24.5-py3-none-any.whl (417 kB)\n",
      "Requirement already satisfied: numpy>=1.17 in c:\\users\\ishan\\appdata\\local\\programs\\python\\python310\\lib\\site-packages (from transformers) (1.23.1)\n",
      "Requirement already satisfied: packaging>=20.0 in c:\\users\\ishan\\appdata\\roaming\\python\\python310\\site-packages (from transformers) (21.3)\n",
      "Requirement already satisfied: pyyaml>=5.1 in c:\\users\\ishan\\appdata\\local\\programs\\python\\python310\\lib\\site-packages (from transformers) (6.0.1)\n",
      "Requirement already satisfied: regex!=2019.12.17 in c:\\users\\ishan\\appdata\\local\\programs\\python\\python310\\lib\\site-packages (from transformers) (2022.10.31)\n",
      "Requirement already satisfied: requests in c:\\users\\ishan\\appdata\\local\\programs\\python\\python310\\lib\\site-packages (from transformers) (2.24.0)\n",
      "Collecting safetensors>=0.4.1 (from transformers)\n",
      "  Downloading safetensors-0.4.4-cp310-none-win_amd64.whl (285 kB)\n",
      "     -------------------------------------- 285.9/285.9 kB 4.4 MB/s eta 0:00:00\n",
      "Collecting tokenizers<0.20,>=0.19 (from transformers)\n",
      "  Downloading tokenizers-0.19.1-cp310-none-win_amd64.whl (2.2 MB)\n",
      "     ---------------------------------------- 2.2/2.2 MB 5.4 MB/s eta 0:00:00\n",
      "Requirement already satisfied: tqdm>=4.27 in c:\\users\\ishan\\appdata\\local\\programs\\python\\python310\\lib\\site-packages (from transformers) (4.64.0)\n",
      "Collecting fsspec>=2023.5.0 (from huggingface-hub<1.0,>=0.23.2->transformers)\n",
      "  Using cached fsspec-2024.6.1-py3-none-any.whl (177 kB)\n",
      "Requirement already satisfied: typing-extensions>=3.7.4.3 in c:\\users\\ishan\\appdata\\local\\programs\\python\\python310\\lib\\site-packages (from huggingface-hub<1.0,>=0.23.2->transformers) (4.10.0)\n",
      "Requirement already satisfied: pyparsing!=3.0.5,>=2.0.2 in c:\\users\\ishan\\appdata\\roaming\\python\\python310\\site-packages (from packaging>=20.0->transformers) (3.0.9)\n",
      "Requirement already satisfied: colorama in c:\\users\\ishan\\appdata\\roaming\\python\\python310\\site-packages (from tqdm>=4.27->transformers) (0.4.5)\n",
      "Requirement already satisfied: chardet<4,>=3.0.2 in c:\\users\\ishan\\appdata\\local\\programs\\python\\python310\\lib\\site-packages (from requests->transformers) (3.0.4)\n",
      "Requirement already satisfied: idna<3,>=2.5 in c:\\users\\ishan\\appdata\\local\\programs\\python\\python310\\lib\\site-packages (from requests->transformers) (2.10)\n",
      "Requirement already satisfied: urllib3!=1.25.0,!=1.25.1,<1.26,>=1.21.1 in c:\\users\\ishan\\appdata\\local\\programs\\python\\python310\\lib\\site-packages (from requests->transformers) (1.25.11)\n",
      "Requirement already satisfied: certifi>=2017.4.17 in c:\\users\\ishan\\appdata\\local\\programs\\python\\python310\\lib\\site-packages (from requests->transformers) (2022.6.15)\n",
      "Installing collected packages: safetensors, fsspec, huggingface-hub, tokenizers, transformers\n",
      "Successfully installed fsspec-2024.6.1 huggingface-hub-0.24.5 safetensors-0.4.4 tokenizers-0.19.1 transformers-4.43.4\n"
     ]
    }
   ],
   "source": [
    "!pip install transformers"
   ]
  },
  {
   "cell_type": "code",
   "execution_count": 23,
   "id": "932cb449-7585-44b8-ac28-4b738710b061",
   "metadata": {},
   "outputs": [
    {
     "name": "stdout",
     "output_type": "stream",
     "text": [
      "Requirement already satisfied: tensorflow in c:\\users\\ishan\\appdata\\local\\programs\\python\\python310\\lib\\site-packages (2.9.1)\n",
      "Requirement already satisfied: absl-py>=1.0.0 in c:\\users\\ishan\\appdata\\local\\programs\\python\\python310\\lib\\site-packages (from tensorflow) (1.2.0)\n",
      "Requirement already satisfied: astunparse>=1.6.0 in c:\\users\\ishan\\appdata\\local\\programs\\python\\python310\\lib\\site-packages (from tensorflow) (1.6.3)\n",
      "Requirement already satisfied: flatbuffers<2,>=1.12 in c:\\users\\ishan\\appdata\\local\\programs\\python\\python310\\lib\\site-packages (from tensorflow) (1.12)\n",
      "Requirement already satisfied: gast<=0.4.0,>=0.2.1 in c:\\users\\ishan\\appdata\\local\\programs\\python\\python310\\lib\\site-packages (from tensorflow) (0.4.0)\n",
      "Requirement already satisfied: google-pasta>=0.1.1 in c:\\users\\ishan\\appdata\\local\\programs\\python\\python310\\lib\\site-packages (from tensorflow) (0.2.0)\n",
      "Requirement already satisfied: h5py>=2.9.0 in c:\\users\\ishan\\appdata\\local\\programs\\python\\python310\\lib\\site-packages (from tensorflow) (3.7.0)\n",
      "Requirement already satisfied: keras-preprocessing>=1.1.1 in c:\\users\\ishan\\appdata\\local\\programs\\python\\python310\\lib\\site-packages (from tensorflow) (1.1.2)\n",
      "Requirement already satisfied: libclang>=13.0.0 in c:\\users\\ishan\\appdata\\local\\programs\\python\\python310\\lib\\site-packages (from tensorflow) (14.0.6)\n",
      "Requirement already satisfied: numpy>=1.20 in c:\\users\\ishan\\appdata\\local\\programs\\python\\python310\\lib\\site-packages (from tensorflow) (1.23.1)\n",
      "Requirement already satisfied: opt-einsum>=2.3.2 in c:\\users\\ishan\\appdata\\local\\programs\\python\\python310\\lib\\site-packages (from tensorflow) (3.3.0)\n",
      "Requirement already satisfied: packaging in c:\\users\\ishan\\appdata\\roaming\\python\\python310\\site-packages (from tensorflow) (21.3)\n",
      "Requirement already satisfied: protobuf<3.20,>=3.9.2 in c:\\users\\ishan\\appdata\\local\\programs\\python\\python310\\lib\\site-packages (from tensorflow) (3.19.4)\n",
      "Requirement already satisfied: setuptools in c:\\users\\ishan\\appdata\\local\\programs\\python\\python310\\lib\\site-packages (from tensorflow) (70.2.0)\n",
      "Requirement already satisfied: six>=1.12.0 in c:\\users\\ishan\\appdata\\roaming\\python\\python310\\site-packages (from tensorflow) (1.16.0)\n",
      "Requirement already satisfied: termcolor>=1.1.0 in c:\\users\\ishan\\appdata\\local\\programs\\python\\python310\\lib\\site-packages (from tensorflow) (1.1.0)\n",
      "Requirement already satisfied: typing-extensions>=3.6.6 in c:\\users\\ishan\\appdata\\local\\programs\\python\\python310\\lib\\site-packages (from tensorflow) (4.10.0)\n",
      "Requirement already satisfied: wrapt>=1.11.0 in c:\\users\\ishan\\appdata\\local\\programs\\python\\python310\\lib\\site-packages (from tensorflow) (1.14.1)\n",
      "Requirement already satisfied: tensorflow-io-gcs-filesystem>=0.23.1 in c:\\users\\ishan\\appdata\\local\\programs\\python\\python310\\lib\\site-packages (from tensorflow) (0.26.0)\n",
      "Requirement already satisfied: grpcio<2.0,>=1.24.3 in c:\\users\\ishan\\appdata\\local\\programs\\python\\python310\\lib\\site-packages (from tensorflow) (1.47.0)\n",
      "Requirement already satisfied: tensorboard<2.10,>=2.9 in c:\\users\\ishan\\appdata\\local\\programs\\python\\python310\\lib\\site-packages (from tensorflow) (2.9.1)\n",
      "Requirement already satisfied: tensorflow-estimator<2.10.0,>=2.9.0rc0 in c:\\users\\ishan\\appdata\\local\\programs\\python\\python310\\lib\\site-packages (from tensorflow) (2.9.0)\n",
      "Requirement already satisfied: keras<2.10.0,>=2.9.0rc0 in c:\\users\\ishan\\appdata\\local\\programs\\python\\python310\\lib\\site-packages (from tensorflow) (2.9.0)\n",
      "Requirement already satisfied: wheel<1.0,>=0.23.0 in c:\\users\\ishan\\appdata\\roaming\\python\\python310\\site-packages (from astunparse>=1.6.0->tensorflow) (0.37.1)\n",
      "Requirement already satisfied: google-auth<3,>=1.6.3 in c:\\users\\ishan\\appdata\\local\\programs\\python\\python310\\lib\\site-packages (from tensorboard<2.10,>=2.9->tensorflow) (2.9.1)\n",
      "Requirement already satisfied: google-auth-oauthlib<0.5,>=0.4.1 in c:\\users\\ishan\\appdata\\local\\programs\\python\\python310\\lib\\site-packages (from tensorboard<2.10,>=2.9->tensorflow) (0.4.6)\n",
      "Requirement already satisfied: markdown>=2.6.8 in c:\\users\\ishan\\appdata\\local\\programs\\python\\python310\\lib\\site-packages (from tensorboard<2.10,>=2.9->tensorflow) (3.4.1)\n",
      "Requirement already satisfied: requests<3,>=2.21.0 in c:\\users\\ishan\\appdata\\local\\programs\\python\\python310\\lib\\site-packages (from tensorboard<2.10,>=2.9->tensorflow) (2.24.0)\n",
      "Requirement already satisfied: tensorboard-data-server<0.7.0,>=0.6.0 in c:\\users\\ishan\\appdata\\local\\programs\\python\\python310\\lib\\site-packages (from tensorboard<2.10,>=2.9->tensorflow) (0.6.1)\n",
      "Requirement already satisfied: tensorboard-plugin-wit>=1.6.0 in c:\\users\\ishan\\appdata\\local\\programs\\python\\python310\\lib\\site-packages (from tensorboard<2.10,>=2.9->tensorflow) (1.8.1)\n",
      "Requirement already satisfied: werkzeug>=1.0.1 in c:\\users\\ishan\\appdata\\local\\programs\\python\\python310\\lib\\site-packages (from tensorboard<2.10,>=2.9->tensorflow) (2.2.1)\n",
      "Requirement already satisfied: pyparsing!=3.0.5,>=2.0.2 in c:\\users\\ishan\\appdata\\roaming\\python\\python310\\site-packages (from packaging->tensorflow) (3.0.9)\n",
      "Requirement already satisfied: cachetools<6.0,>=2.0.0 in c:\\users\\ishan\\appdata\\local\\programs\\python\\python310\\lib\\site-packages (from google-auth<3,>=1.6.3->tensorboard<2.10,>=2.9->tensorflow) (5.2.0)\n",
      "Requirement already satisfied: pyasn1-modules>=0.2.1 in c:\\users\\ishan\\appdata\\local\\programs\\python\\python310\\lib\\site-packages (from google-auth<3,>=1.6.3->tensorboard<2.10,>=2.9->tensorflow) (0.2.8)\n",
      "Requirement already satisfied: rsa<5,>=3.1.4 in c:\\users\\ishan\\appdata\\local\\programs\\python\\python310\\lib\\site-packages (from google-auth<3,>=1.6.3->tensorboard<2.10,>=2.9->tensorflow) (4.9)\n",
      "Requirement already satisfied: requests-oauthlib>=0.7.0 in c:\\users\\ishan\\appdata\\local\\programs\\python\\python310\\lib\\site-packages (from google-auth-oauthlib<0.5,>=0.4.1->tensorboard<2.10,>=2.9->tensorflow) (1.3.1)\n",
      "Requirement already satisfied: chardet<4,>=3.0.2 in c:\\users\\ishan\\appdata\\local\\programs\\python\\python310\\lib\\site-packages (from requests<3,>=2.21.0->tensorboard<2.10,>=2.9->tensorflow) (3.0.4)\n",
      "Requirement already satisfied: idna<3,>=2.5 in c:\\users\\ishan\\appdata\\local\\programs\\python\\python310\\lib\\site-packages (from requests<3,>=2.21.0->tensorboard<2.10,>=2.9->tensorflow) (2.10)\n",
      "Requirement already satisfied: urllib3!=1.25.0,!=1.25.1,<1.26,>=1.21.1 in c:\\users\\ishan\\appdata\\local\\programs\\python\\python310\\lib\\site-packages (from requests<3,>=2.21.0->tensorboard<2.10,>=2.9->tensorflow) (1.25.11)\n",
      "Requirement already satisfied: certifi>=2017.4.17 in c:\\users\\ishan\\appdata\\local\\programs\\python\\python310\\lib\\site-packages (from requests<3,>=2.21.0->tensorboard<2.10,>=2.9->tensorflow) (2022.6.15)\n",
      "Requirement already satisfied: MarkupSafe>=2.1.1 in c:\\users\\ishan\\appdata\\roaming\\python\\python310\\site-packages (from werkzeug>=1.0.1->tensorboard<2.10,>=2.9->tensorflow) (2.1.1)\n",
      "Requirement already satisfied: pyasn1<0.5.0,>=0.4.6 in c:\\users\\ishan\\appdata\\local\\programs\\python\\python310\\lib\\site-packages (from pyasn1-modules>=0.2.1->google-auth<3,>=1.6.3->tensorboard<2.10,>=2.9->tensorflow) (0.4.8)\n",
      "Requirement already satisfied: oauthlib>=3.0.0 in c:\\users\\ishan\\appdata\\local\\programs\\python\\python310\\lib\\site-packages (from requests-oauthlib>=0.7.0->google-auth-oauthlib<0.5,>=0.4.1->tensorboard<2.10,>=2.9->tensorflow) (3.2.0)\n"
     ]
    },
    {
     "name": "stderr",
     "output_type": "stream",
     "text": [
      "\n",
      "[notice] A new release of pip is available: 23.1.2 -> 24.2\n",
      "[notice] To update, run: python.exe -m pip install --upgrade pip\n"
     ]
    }
   ],
   "source": [
    "!pip install tensorflow"
   ]
  },
  {
   "cell_type": "code",
   "execution_count": 14,
   "id": "5da501b0-a841-4e9b-9352-550ed9879ee4",
   "metadata": {},
   "outputs": [
    {
     "name": "stderr",
     "output_type": "stream",
     "text": [
      "All model checkpoint layers were used when initializing TFDistilBertForSequenceClassification.\n",
      "\n",
      "All the layers of TFDistilBertForSequenceClassification were initialized from the model checkpoint at C:\\Users\\Ishan\\OneDrive\\Desktop\\TripAdvisor Project - Copy\\sentiment.\n",
      "If your task is similar to the task the model of the checkpoint was trained on, you can already use TFDistilBertForSequenceClassification for predictions without further training.\n"
     ]
    }
   ],
   "source": [
    "from transformers import DistilBertTokenizer, TFDistilBertForSequenceClassification\n",
    "import tensorflow as tf\n",
    "\n",
    "# Load your fine-tuned DistilBERT model and tokenizer\n",
    "model_path = 'distilbert-base-uncased'  # Replace with your actual model path\n",
    "tokenizer = DistilBertTokenizer.from_pretrained(model_path)\n",
    "model = TFDistilBertForSequenceClassification.from_pretrained(r\"C:\\Users\\Ishan\\OneDrive\\Desktop\\TripAdvisor Project - Copy\\sentiment\")\n",
    "\n",
    "def analyze_sentiment(review, tokenizer, model):\n",
    "    inputs = tokenizer(review, return_tensors=\"tf\", truncation=True, padding=True, max_length=512)\n",
    "    outputs = model(inputs)\n",
    "    logits = outputs.logits\n",
    "    predicted_class = tf.argmax(logits, axis=1).numpy()[0]\n",
    "    return predicted_class  \n",
    "\n",
    "# Apply sentiment analysis to each review\n",
    "df['Sentiment'] = df['Review'].apply(lambda x: analyze_sentiment(x, tokenizer, model))\n",
    "\n"
   ]
  },
  {
   "cell_type": "code",
   "execution_count": 17,
   "id": "9de3d65f-70d0-43eb-8356-3b2e081974c6",
   "metadata": {},
   "outputs": [
    {
     "data": {
      "text/html": [
       "<div>\n",
       "<style scoped>\n",
       "    .dataframe tbody tr th:only-of-type {\n",
       "        vertical-align: middle;\n",
       "    }\n",
       "\n",
       "    .dataframe tbody tr th {\n",
       "        vertical-align: top;\n",
       "    }\n",
       "\n",
       "    .dataframe thead th {\n",
       "        text-align: right;\n",
       "    }\n",
       "</style>\n",
       "<table border=\"1\" class=\"dataframe\">\n",
       "  <thead>\n",
       "    <tr style=\"text-align: right;\">\n",
       "      <th></th>\n",
       "      <th>Review</th>\n",
       "      <th>Sentiment</th>\n",
       "    </tr>\n",
       "  </thead>\n",
       "  <tbody>\n",
       "    <tr>\n",
       "      <th>0</th>\n",
       "      <td>Conveniently located in the middle of the mall...</td>\n",
       "      <td>1</td>\n",
       "    </tr>\n",
       "    <tr>\n",
       "      <th>1</th>\n",
       "      <td>Its difficult to find good restaurants in hill...</td>\n",
       "      <td>1</td>\n",
       "    </tr>\n",
       "    <tr>\n",
       "      <th>2</th>\n",
       "      <td>We went there in The month of February . Yet i...</td>\n",
       "      <td>0</td>\n",
       "    </tr>\n",
       "    <tr>\n",
       "      <th>3</th>\n",
       "      <td>I was there with my kids to enjoy dinner but w...</td>\n",
       "      <td>0</td>\n",
       "    </tr>\n",
       "    <tr>\n",
       "      <th>4</th>\n",
       "      <td>A very good place to get authentic Tibetan foo...</td>\n",
       "      <td>1</td>\n",
       "    </tr>\n",
       "  </tbody>\n",
       "</table>\n",
       "</div>"
      ],
      "text/plain": [
       "                                              Review  Sentiment\n",
       "0  Conveniently located in the middle of the mall...          1\n",
       "1  Its difficult to find good restaurants in hill...          1\n",
       "2  We went there in The month of February . Yet i...          0\n",
       "3  I was there with my kids to enjoy dinner but w...          0\n",
       "4  A very good place to get authentic Tibetan foo...          1"
      ]
     },
     "execution_count": 17,
     "metadata": {},
     "output_type": "execute_result"
    }
   ],
   "source": [
    "df.head()"
   ]
  },
  {
   "cell_type": "code",
   "execution_count": 16,
   "id": "1a882bb2-5ce4-456e-bc05-5d83d6cb94b2",
   "metadata": {},
   "outputs": [
    {
     "data": {
      "text/plain": [
       "\"\\ndf = pd.read_csv('review_sentiments.csv')\\ndf.head()\\ndf['Sentiment'] = df['Sentiment'].map({'Negative': 0, 'Positive': 1})\\n\""
      ]
     },
     "execution_count": 16,
     "metadata": {},
     "output_type": "execute_result"
    }
   ],
   "source": [
    "'''\n",
    "df = pd.read_csv('review_sentiments.csv')\n",
    "df.head()\n",
    "df['Sentiment'] = df['Sentiment'].map({'Negative': 0, 'Positive': 1})\n",
    "'''"
   ]
  },
  {
   "cell_type": "code",
   "execution_count": 18,
   "id": "4ca31336-0085-4815-bc8d-796224052211",
   "metadata": {},
   "outputs": [
    {
     "name": "stdout",
     "output_type": "stream",
     "text": [
      "Sentiment\n",
      "1    118\n",
      "0     32\n",
      "Name: count, dtype: int64\n"
     ]
    },
    {
     "data": {
      "image/png": "[encoded data removed]",
      "text/plain": [
       "<Figure size 432x432 with 1 Axes>"
      ]
     },
     "metadata": {},
     "output_type": "display_data"
    }
   ],
   "source": [
    "sentiment_counts = df['Sentiment'].value_counts()\n",
    "print(sentiment_counts)\n",
    "\n",
    "\n",
    "labels = sentiment_counts.index.map({0: 'Negative', 1: 'Positive'}).tolist()\n",
    "\n",
    "sizes = sentiment_counts.values\n",
    "colors = ['green', 'red']\n",
    "\n",
    "# Explode the negative segment\n",
    "explode = (0.15, 0)  # Explode the first segment (Negative)\n",
    "\n",
    "# Create the pie chart\n",
    "plt.figure(figsize=(6, 6))\n",
    "plt.pie(sizes, labels=labels, autopct='%1.1f%%', startangle=140, colors=colors, explode=explode, wedgeprops={'edgecolor': 'grey'})\n",
    "plt.title('Sentiment Analysis Result')\n",
    "plt.show()"
   ]
  },
  {
   "cell_type": "code",
   "execution_count": 19,
   "id": "7f4f8b79-cf22-4a58-9aa8-eb8ed3dbd696",
   "metadata": {},
   "outputs": [
    {
     "name": "stderr",
     "output_type": "stream",
     "text": [
      "[nltk_data] Downloading package punkt to\n",
      "[nltk_data]     C:\\Users\\Ishan\\AppData\\Roaming\\nltk_data...\n",
      "[nltk_data]   Package punkt is already up-to-date!\n",
      "[nltk_data] Downloading package stopwords to\n",
      "[nltk_data]     C:\\Users\\Ishan\\AppData\\Roaming\\nltk_data...\n",
      "[nltk_data]   Package stopwords is already up-to-date!\n",
      "[nltk_data] Downloading package wordnet to\n",
      "[nltk_data]     C:\\Users\\Ishan\\AppData\\Roaming\\nltk_data...\n",
      "[nltk_data]   Package wordnet is already up-to-date!\n"
     ]
    },
    {
     "data": {
      "text/plain": [
       "True"
      ]
     },
     "execution_count": 19,
     "metadata": {},
     "output_type": "execute_result"
    }
   ],
   "source": [
    "import nltk\n",
    "from nltk.corpus import stopwords\n",
    "from nltk.tokenize import word_tokenize\n",
    "from nltk.stem import WordNetLemmatizer\n",
    "nltk.download('punkt')\n",
    "nltk.download('stopwords')\n",
    "nltk.download('wordnet')"
   ]
  },
  {
   "cell_type": "code",
   "execution_count": 20,
   "id": "c839e7d8-f143-4e92-a500-eacf04f746ed",
   "metadata": {},
   "outputs": [],
   "source": [
    "lemmatizer = WordNetLemmatizer()\n",
    "stop_words = set(stopwords.words('english'))\n",
    "\n",
    "def clean_text(text):\n",
    "    \n",
    "    text = text.lower()\n",
    "    \n",
    "    # Remove punctuation marks and digits\n",
    "    text = re.sub(r'[^\\w\\s]', '', text)  # Removes punctuation\n",
    "    text = re.sub(r'\\d+', '', text)      # Removes digits\n",
    "    \n",
    "    # Tokenize the text\n",
    "    tokens = word_tokenize(text)\n",
    "    \n",
    "    # Remove short words, if necessary\n",
    "    tokens = [word for word in tokens if len(word) > 2]\n",
    "    \n",
    "    # Remove stopwords and lemmatize\n",
    "    cleaned_tokens = [lemmatizer.lemmatize(token) for token in tokens if token not in stop_words]\n",
    "    \n",
    "    # Join tokens back into a single string\n",
    "    cleaned_text = ' '.join(cleaned_tokens)\n",
    "    \n",
    "    return cleaned_text"
   ]
  },
  {
   "cell_type": "code",
   "execution_count": 21,
   "id": "efcb7fc7-2b6f-4880-b00b-d5a9dd2e77ba",
   "metadata": {},
   "outputs": [],
   "source": [
    "df['Processed_Review'] = df['Review'].apply(clean_text)"
   ]
  },
  {
   "cell_type": "code",
   "execution_count": 22,
   "id": "faead62e-119c-45be-a8d5-1857eeb8cb10",
   "metadata": {},
   "outputs": [
    {
     "data": {
      "text/html": [
       "<div>\n",
       "<style scoped>\n",
       "    .dataframe tbody tr th:only-of-type {\n",
       "        vertical-align: middle;\n",
       "    }\n",
       "\n",
       "    .dataframe tbody tr th {\n",
       "        vertical-align: top;\n",
       "    }\n",
       "\n",
       "    .dataframe thead th {\n",
       "        text-align: right;\n",
       "    }\n",
       "</style>\n",
       "<table border=\"1\" class=\"dataframe\">\n",
       "  <thead>\n",
       "    <tr style=\"text-align: right;\">\n",
       "      <th></th>\n",
       "      <th>Review</th>\n",
       "      <th>Sentiment</th>\n",
       "      <th>Processed_Review</th>\n",
       "    </tr>\n",
       "  </thead>\n",
       "  <tbody>\n",
       "    <tr>\n",
       "      <th>0</th>\n",
       "      <td>Conveniently located in the middle of the mall...</td>\n",
       "      <td>1</td>\n",
       "      <td>conveniently located middle mall road chineset...</td>\n",
       "    </tr>\n",
       "    <tr>\n",
       "      <th>1</th>\n",
       "      <td>Its difficult to find good restaurants in hill...</td>\n",
       "      <td>1</td>\n",
       "      <td>difficult find good restaurant hill station on...</td>\n",
       "    </tr>\n",
       "    <tr>\n",
       "      <th>2</th>\n",
       "      <td>We went there in The month of February . Yet i...</td>\n",
       "      <td>0</td>\n",
       "      <td>went month february yet crowded place got tabl...</td>\n",
       "    </tr>\n",
       "    <tr>\n",
       "      <th>3</th>\n",
       "      <td>I was there with my kids to enjoy dinner but w...</td>\n",
       "      <td>0</td>\n",
       "      <td>kid enjoy dinner ruined bad customer service w...</td>\n",
       "    </tr>\n",
       "    <tr>\n",
       "      <th>4</th>\n",
       "      <td>A very good place to get authentic Tibetan foo...</td>\n",
       "      <td>1</td>\n",
       "      <td>good place get authentic tibetan food though l...</td>\n",
       "    </tr>\n",
       "  </tbody>\n",
       "</table>\n",
       "</div>"
      ],
      "text/plain": [
       "                                              Review  Sentiment  \\\n",
       "0  Conveniently located in the middle of the mall...          1   \n",
       "1  Its difficult to find good restaurants in hill...          1   \n",
       "2  We went there in The month of February . Yet i...          0   \n",
       "3  I was there with my kids to enjoy dinner but w...          0   \n",
       "4  A very good place to get authentic Tibetan foo...          1   \n",
       "\n",
       "                                    Processed_Review  \n",
       "0  conveniently located middle mall road chineset...  \n",
       "1  difficult find good restaurant hill station on...  \n",
       "2  went month february yet crowded place got tabl...  \n",
       "3  kid enjoy dinner ruined bad customer service w...  \n",
       "4  good place get authentic tibetan food though l...  "
      ]
     },
     "execution_count": 22,
     "metadata": {},
     "output_type": "execute_result"
    }
   ],
   "source": [
    "df.head()"
   ]
  },
  {
   "cell_type": "code",
   "execution_count": 23,
   "id": "c4d658a0-5162-4feb-bad1-5bae7bc249d0",
   "metadata": {},
   "outputs": [],
   "source": [
    "\n",
    "positive_reviews = df[df['Sentiment'] == 1]['Processed_Review'].sum()\n",
    "positive_word_freq = Counter(positive_reviews.split())\n",
    "\n",
    "\n",
    "top_positive_words = positive_word_freq.most_common(10)\n",
    "\n"
   ]
  },
  {
   "cell_type": "code",
   "execution_count": 24,
   "id": "fb6fdc29-8492-49d9-9cfc-ba15444ef17d",
   "metadata": {},
   "outputs": [],
   "source": [
    "def plot_top_words(word_freq, title, color):\n",
    "    words, counts = zip(*word_freq)\n",
    "    plt.figure(figsize=(8, 6))\n",
    "    plt.bar(words, counts, color=color)\n",
    "    plt.title(title)\n",
    "    plt.xlabel('Words')\n",
    "    plt.ylabel('Frequency')\n",
    "    plt.show()"
   ]
  },
  {
   "cell_type": "code",
   "execution_count": 25,
   "id": "cffb8851-6e82-44e3-92ae-cba51969c6a0",
   "metadata": {},
   "outputs": [
    {
     "data": {
      "image/png": "[encoded data removed]",
      "text/plain": [
       "<Figure size 576x432 with 1 Axes>"
      ]
     },
     "metadata": {
      "needs_background": "light"
     },
     "output_type": "display_data"
    }
   ],
   "source": [
    "plot_top_words(top_positive_words, 'Top 10 Positive Words', 'green')"
   ]
  },
  {
   "cell_type": "code",
   "execution_count": null,
   "id": "a4f84cdd-ad10-47c6-92aa-2ed76607ed3f",
   "metadata": {},
   "outputs": [],
   "source": []
  },
  {
   "cell_type": "code",
   "execution_count": 26,
   "id": "2d9e049f",
   "metadata": {},
   "outputs": [],
   "source": [
    "import random\n",
    "import requests\n",
    "from bs4 import BeautifulSoup\n",
    "import re\n",
    "import time\n",
    "import pandas as pd\n",
    "from transformers import BartTokenizer, BartForConditionalGeneration\n",
    "import nltk\n",
    "import os"
   ]
  },
  {
   "cell_type": "code",
   "execution_count": 27,
   "id": "7c77d57a",
   "metadata": {},
   "outputs": [
    {
     "name": "stderr",
     "output_type": "stream",
     "text": [
      "All PyTorch model weights were used when initializing TFBartForConditionalGeneration.\n",
      "\n",
      "All the weights of TFBartForConditionalGeneration were initialized from the PyTorch model.\n",
      "If your task is similar to the task the model of the checkpoint was trained on, you can already use TFBartForConditionalGeneration for predictions without further training.\n"
     ]
    },
    {
     "name": "stdout",
     "output_type": "stream",
     "text": [
      "Summary of Reviews:\n",
      "Located in the middle of the mall road, this Chinese/Tibetan eatery is a must visit. They serve authentic, tasty and hygienic food with generous portions, the food seems slightly overpriced and the place is also a bit crammed. The only drawback is that its pricey but the potion they serve is good and the quality is good as well. The chicken in the chicken momos was hard as a rock. On complaining no reaction from the restaurant staff All good ordered was below average & is not worth the money. Do not visit this place we had the pleasure of eating at chopsticks in 2013 for the first time and we ended up at this Manali mall road restaurant again after 7 odd year and they did not disappoint on either occasion. a great place to dine, fantastic ambience, delicious food. Icing on the carke is their extremely courteous staff. you will definitely have a good experience. Located extremely good location just on Manali Mall road, a bit different than any other restaurants nearby. You can reach here by auto and it's on way to hadimba devi temple. We were there for almost 3 times to have lunch/dinner, one evening we had a get together with friends and we tried trout fish fry and roasted with some beers. It was amazing. Very well behaved and friendly stuff. Excellent location juston mall road itself. Only thing the space it small so you may have to wait a little bit during peak hours in peak season. It was neither too pricey nor very cheap. So, if you are a lover of Chinese/Asian cuisine, Chopsticks is the place. Not worthy of visiting. The food was authentic and tasty.  A very good place to get authentic Tibetan food though it is having lot of varieties. We were at the restaurant for almost three times to Have lunch/Dinner, and we were there with friends. We ordered veg wanton for starters and a glass of Rio wine to go with it. For our main course, I ordered prawns fried rice and my friend ordered ting-mo and mix vegetables curry. I loved the wanton and the prawn's fried rice quite delicious. The Rio wine was surprisingly tasty. The restaurant was very close to the kitchen and to the place where they keep the kitchen stuff. They have to cross the washroom from kitchen to the dining hall to bring the food. It look very unhygienics. The owner needs to do more than just serving a food to excel people experience.\n"
     ]
    }
   ],
   "source": [
    "import pandas as pd\n",
    "from transformers import BartTokenizer, TFBartForConditionalGeneration\n",
    "\n",
    "# Function to extract the first 2 lines from each review\n",
    "def extract_first_two_lines(review):\n",
    "    lines = review.split(\"\\n\")\n",
    "    return \" \".join(lines[:2])\n",
    "\n",
    "def summarize_reviews(reviews):\n",
    "    # Load BART tokenizer and model\n",
    "    tokenizer = BartTokenizer.from_pretrained('facebook/bart-large-cnn')\n",
    "    model = TFBartForConditionalGeneration.from_pretrained('facebook/bart-large-cnn')\n",
    "\n",
    "    # Apply extract_first_two_lines to each review\n",
    "    processed_reviews = [extract_first_two_lines(review) for review in reviews]\n",
    "    combined_reviews = \" \".join(processed_reviews)\n",
    "\n",
    "    # Tokenize the combined reviews\n",
    "    inputs = tokenizer(\n",
    "        combined_reviews,\n",
    "        return_tensors='tf',\n",
    "        max_length=1024,\n",
    "        truncation=True,\n",
    "    )\n",
    "\n",
    "    # Generate summary with a minimum length of 500\n",
    "    summary_ids = model.generate(\n",
    "        inputs['input_ids'],\n",
    "        min_length=500,\n",
    "        max_length=1024,\n",
    "        length_penalty=2.0,\n",
    "        num_beams=4,\n",
    "        early_stopping=True\n",
    "    )\n",
    "\n",
    "    # Decode the summary\n",
    "    summary = tokenizer.decode(summary_ids[0], skip_special_tokens=True)\n",
    "\n",
    "    return summary\n",
    "\n",
    "# Read the CSV file into a DataFrame\n",
    "\n",
    "# Extract the 'Reviews' column into a list\n",
    "reviews_list = df['Review'].tolist()\n",
    "\n",
    "# Work on only the first 10 reviews\n",
    "first_10_reviews = reviews_list[:10]\n",
    "\n",
    "# Summarize the reviews\n",
    "summary = summarize_reviews(first_10_reviews)\n",
    "\n",
    "# Print or use the summary as needed\n",
    "print(\"Summary of Reviews:\")\n",
    "print(summary)\n"
   ]
  },
  {
   "cell_type": "code",
   "execution_count": 28,
   "id": "09ad77dc",
   "metadata": {},
   "outputs": [
    {
     "data": {
      "text/plain": [
       "\"Located in the middle of the mall road, this Chinese/Tibetan eatery is a must visit. They serve authentic, tasty and hygienic food with generous portions, the food seems slightly overpriced and the place is also a bit crammed. The only drawback is that its pricey but the potion they serve is good and the quality is good as well. The chicken in the chicken momos was hard as a rock. On complaining no reaction from the restaurant staff All good ordered was below average & is not worth the money. Do not visit this place we had the pleasure of eating at chopsticks in 2013 for the first time and we ended up at this Manali mall road restaurant again after 7 odd year and they did not disappoint on either occasion. a great place to dine, fantastic ambience, delicious food. Icing on the carke is their extremely courteous staff. you will definitely have a good experience. Located extremely good location just on Manali Mall road, a bit different than any other restaurants nearby. You can reach here by auto and it's on way to hadimba devi temple. We were there for almost 3 times to have lunch/dinner, one evening we had a get together with friends and we tried trout fish fry and roasted with some beers. It was amazing. Very well behaved and friendly stuff. Excellent location juston mall road itself. Only thing the space it small so you may have to wait a little bit during peak hours in peak season. It was neither too pricey nor very cheap. So, if you are a lover of Chinese/Asian cuisine, Chopsticks is the place. Not worthy of visiting. The food was authentic and tasty.  A very good place to get authentic Tibetan food though it is having lot of varieties. We were at the restaurant for almost three times to Have lunch/Dinner, and we were there with friends. We ordered veg wanton for starters and a glass of Rio wine to go with it. For our main course, I ordered prawns fried rice and my friend ordered ting-mo and mix vegetables curry. I loved the wanton and the prawn's fried rice quite delicious. The Rio wine was surprisingly tasty. The restaurant was very close to the kitchen and to the place where they keep the kitchen stuff. They have to cross the washroom from kitchen to the dining hall to bring the food. It look very unhygienics. The owner needs to do more than just serving a food to excel people experience.\""
      ]
     },
     "execution_count": 28,
     "metadata": {},
     "output_type": "execute_result"
    }
   ],
   "source": [
    "summary"
   ]
  },
  {
   "cell_type": "code",
   "execution_count": 31,
   "id": "d4ef8c25",
   "metadata": {},
   "outputs": [
    {
     "data": {
      "text/plain": [
       "2336"
      ]
     },
     "execution_count": 31,
     "metadata": {},
     "output_type": "execute_result"
    }
   ],
   "source": [
    "len(summary)"
   ]
  },
  {
   "cell_type": "code",
   "execution_count": null,
   "id": "53d36ab8",
   "metadata": {},
   "outputs": [],
   "source": []
  }
 ],
 "metadata": {
  "kernelspec": {
   "display_name": "Python 3 (ipykernel)",
   "language": "python",
   "name": "python3"
  },
  "language_info": {
   "codemirror_mode": {
    "name": "ipython",
    "version": 3
   },
   "file_extension": ".py",
   "mimetype": "text/x-python",
   "name": "python",
   "nbconvert_exporter": "python",
   "pygments_lexer": "ipython3",
   "version": "3.10.5"
  }
 },
 "nbformat": 4,
 "nbformat_minor": 5
}
